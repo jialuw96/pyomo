{
 "cells": [
  {
   "cell_type": "code",
   "execution_count": 1,
   "id": "3b91de32",
   "metadata": {},
   "outputs": [],
   "source": [
    "import numpy as np\n",
    "import pandas as pd\n",
    "import pyomo.environ as pyo\n",
    "from measure_optimize import MeasurementOptimizer, DataProcess, CovarianceStructure, ObjectiveLib\n",
    "#import matplotlib.pyplot as plt\n",
    "import pickle "
   ]
  },
  {
   "cell_type": "markdown",
   "id": "e8c83010",
   "metadata": {},
   "source": [
    "## Data Process"
   ]
  },
  {
   "cell_type": "code",
   "execution_count": 2,
   "id": "95642cd8",
   "metadata": {},
   "outputs": [],
   "source": [
    "Nt = 8\n",
    "\n",
    "max_manual_num = 10\n",
    "min_interval_num = 10"
   ]
  },
  {
   "cell_type": "code",
   "execution_count": 3,
   "id": "0fb41233",
   "metadata": {},
   "outputs": [
    {
     "name": "stdout",
     "output_type": "stream",
     "text": [
      "[ 0.   7.5 15.  22.5 30.  37.5 45.  52.5 60. ]\n"
     ]
    }
   ],
   "source": [
    "print(np.linspace(0,60,9))"
   ]
  },
  {
   "cell_type": "markdown",
   "id": "b19c3189",
   "metadata": {},
   "source": [
    "### API"
   ]
  },
  {
   "cell_type": "code",
   "execution_count": 4,
   "id": "1ad78b44",
   "metadata": {},
   "outputs": [],
   "source": [
    "\n",
    "static_ind = [0,1,2]\n",
    "#dynamic_ind = [3,4,5]\n",
    "dynamic_ind = [3]\n",
    "all_ind = static_ind+dynamic_ind\n",
    "\n",
    "num_total = len(all_ind)"
   ]
  },
  {
   "cell_type": "code",
   "execution_count": 5,
   "id": "122ff6a2",
   "metadata": {},
   "outputs": [],
   "source": [
    "#all_names_strategy3 = [\"CA.static\", \"CB.static\", \"CC.static\", \n",
    "#                      \"CA.dynamic\", \"CB.dynamic\", \"CC.dynamic\"]\n",
    "all_names_strategy3 = [\"CA.static\", \"CB.static\", \"CC.static\", \"CA.dynamic\"]"
   ]
  },
  {
   "cell_type": "code",
   "execution_count": 6,
   "id": "0d2f63d6",
   "metadata": {},
   "outputs": [
    {
     "data": {
      "text/plain": [
       "'\\n\\nerror_cov = [[1, 0.1, 0.1, 0, 0, 0],\\n[0.1, 4, 0.5, 0, 0, 0],\\n[0.1, 0.5, 8, 0, 0, 0], \\n[0, 0, 0, 1, 0.1, 0.1], \\n[0, 0, 0, 0.1, 4, 0.5], \\n[0, 0, 0, 0.1, 0.5, 8]]\\n'"
      ]
     },
     "execution_count": 6,
     "metadata": {},
     "output_type": "execute_result"
    }
   ],
   "source": [
    "#static_cost = [2000, # CA\n",
    "#    2000, # CB\n",
    "#     2000, # CC\n",
    "#    200, # CA\n",
    "#    200, # CB\n",
    "#     200] # CC\n",
    "\n",
    "static_cost = [2000, 2000, 2000, 200]\n",
    "dynamic_cost = [0, 0, 0]\n",
    "dynamic_cost.extend([400]*len(dynamic_ind))\n",
    "#dynamic_cost = [0]*len(static_ind)\n",
    "#dynamic_cost.extend([400]*len(dynamic_ind))\n",
    "\n",
    "max_manual = [max_manual_num]*num_total\n",
    "min_time_interval = [min_interval_num]*num_total\n",
    "\n",
    "error_cov = [[1, 0.1, 0.1, 1], \n",
    "            [0.1, 4, 0.5, 0.1], \n",
    "            [0.1, 0.5, 8, 0.1], \n",
    "            [1, 0.1, 0.1, 1]]\n",
    "\n",
    "#error_cov = [[1, 0.1, 0.1, 1, 0.1, 0.1],\n",
    "#[0.1, 4, 0.5, 0.1, 4, 0.5],\n",
    "#[0.1, 0.5, 8, 0.1, 0.5, 8], \n",
    "#[1, 0.1, 0.1, 1, 0.1, 0.1], \n",
    "#[0.1, 4, 0.5, 0.1, 4, 0.5], \n",
    "#[0.1, 0.5, 8, 0.1, 0.5, 8]]\n",
    "'''\n",
    "\n",
    "error_cov = [[1, 0.1, 0.1, 0, 0, 0],\n",
    "[0.1, 4, 0.5, 0, 0, 0],\n",
    "[0.1, 0.5, 8, 0, 0, 0], \n",
    "[0, 0, 0, 1, 0.1, 0.1], \n",
    "[0, 0, 0, 0.1, 4, 0.5], \n",
    "[0, 0, 0, 0.1, 0.5, 8]]\n",
    "'''"
   ]
  },
  {
   "cell_type": "code",
   "execution_count": 7,
   "id": "318bb459",
   "metadata": {},
   "outputs": [
    {
     "name": "stdout",
     "output_type": "stream",
     "text": [
      "         name  Q_index  static_cost  dynamic_cost  min_time_interval  \\\n",
      "0   CA.static        0         2000             0                 10   \n",
      "1   CB.static        1         2000             0                 10   \n",
      "2   CC.static        2         2000             0                 10   \n",
      "3  CA.dynamic        3          200           400                 10   \n",
      "\n",
      "   max_manual_number  \n",
      "0                 10  \n",
      "1                 10  \n",
      "2                 10  \n",
      "3                 10  \n"
     ]
    }
   ],
   "source": [
    "measure_info = pd.DataFrame({\n",
    "    \"name\": all_names_strategy3,\n",
    "    \"Q_index\": all_ind,\n",
    "        \"static_cost\": static_cost,\n",
    "    \"dynamic_cost\": dynamic_cost,\n",
    "    \"min_time_interval\": min_time_interval, \n",
    "    \"max_manual_number\": max_manual\n",
    "})\n",
    "\n",
    "print(measure_info)"
   ]
  },
  {
   "cell_type": "code",
   "execution_count": 8,
   "id": "731217cf",
   "metadata": {},
   "outputs": [],
   "source": [
    "dataObject = DataProcess()\n",
    "dataObject.read_jacobian('./kinetics_fim/Q_drop0.csv')\n",
    "#Q = dataObject.get_Q_list([0,1,2], [0,1,2], Nt)\n",
    "Q = dataObject.get_Q_list([0,1,2], [0], Nt)\n"
   ]
  },
  {
   "cell_type": "code",
   "execution_count": 9,
   "id": "8b60211f",
   "metadata": {},
   "outputs": [
    {
     "name": "stdout",
     "output_type": "stream",
     "text": [
      "Covariances are between measurements at the same time.\n",
      "(121, 4, 4)\n"
     ]
    }
   ],
   "source": [
    "calculator = MeasurementOptimizer(Q, measure_info, error_cov=error_cov, error_opt=CovarianceStructure.measure_correlation, verbose=True)\n",
    "\n",
    "\n",
    "fim_expect = calculator.fim_computation()\n",
    "\n",
    "print(np.shape(calculator.fim_collection))"
   ]
  },
  {
   "cell_type": "markdown",
   "id": "2795c166",
   "metadata": {},
   "source": [
    "## Solve"
   ]
  },
  {
   "cell_type": "code",
   "execution_count": 10,
   "id": "2beb4bec",
   "metadata": {},
   "outputs": [],
   "source": [
    "num_static = len(static_ind)\n",
    "num_dynamic  = len(dynamic_ind)\n",
    "num_total = num_static + num_dynamic*Nt\n",
    "#num_total = num_static"
   ]
  },
  {
   "cell_type": "code",
   "execution_count": 11,
   "id": "4ced6110",
   "metadata": {},
   "outputs": [],
   "source": [
    "with open('./kinetics_results/May2_3000_a', 'rb') as f:\n",
    "    init_cov_y = pickle.load(f)\n",
    "#print(init_cov_y)"
   ]
  },
  {
   "cell_type": "code",
   "execution_count": 12,
   "id": "bd011fd6",
   "metadata": {},
   "outputs": [
    {
     "name": "stdout",
     "output_type": "stream",
     "text": [
      "[[  4.2421363    2.0974022   -7.15679971  -8.94930454]\n",
      " [  2.0974022    5.18300713  -2.8999988  -21.02439003]\n",
      " [ -7.15679971  -2.8999988   12.34045591  12.5645852 ]\n",
      " [ -8.94930454 -21.02439003  12.5645852   86.54108698]]\n"
     ]
    }
   ],
   "source": [
    "with open('./kinetics_results/May2_fim_3000_a', 'rb') as f:\n",
    "    fim_prior = pickle.load(f)\n",
    "    print(fim_prior)"
   ]
  },
  {
   "cell_type": "code",
   "execution_count": 37,
   "id": "972cf768",
   "metadata": {},
   "outputs": [
    {
     "name": "stdout",
     "output_type": "stream",
     "text": [
      "{0: 7.5, 1: 15.0, 2: 22.5, 3: 30.0, 4: 37.5, 5: 45.0, 6: 52.5, 7: 60.0}\n"
     ]
    }
   ],
   "source": [
    "mip_option = True\n",
    "objective = ObjectiveLib.D\n",
    "sparse_opt = True\n",
    "fix_opt = False\n",
    "\n",
    "manual_num = 10\n",
    "budget_opt = 2000\n",
    "\n",
    "total_manual_init = 0\n",
    "dynamic_install_init = [0,0,0] \n",
    "\n",
    "num_dynamic_time = np.linspace(0,60,9)\n",
    "\n",
    "#static_dynamic = [[0,3],[1,4],[2,5]]\n",
    "static_dynamic = [[0,3]]\n",
    "time_interval_for_all = True\n",
    "\n",
    "dynamic_time_dict = {}\n",
    "for i, tim in enumerate(num_dynamic_time[1:]):\n",
    "    dynamic_time_dict[i] = np.round(tim, decimals=2)\n",
    "    \n",
    "print(dynamic_time_dict)"
   ]
  },
  {
   "cell_type": "code",
   "execution_count": 38,
   "id": "00dfa7d2",
   "metadata": {
    "scrolled": true
   },
   "outputs": [
    {
     "name": "stderr",
     "output_type": "stream",
     "text": [
      "Starting MindtPy version 0.1.0 using OA algorithm\n",
      "iteration_limit: 50\n",
      "stalling_limit: 15\n",
      "time_limit: 600\n",
      "strategy: OA\n",
      "add_regularization: None\n",
      "call_after_main_solve: <pyomo.contrib.gdpopt.util._DoNothing object at 0x7ff48722f820>\n",
      "call_after_subproblem_solve: <pyomo.contrib.gdpopt.util._DoNothing object at 0x7ff48722f7f0>\n",
      "call_after_subproblem_feasible: <pyomo.contrib.gdpopt.util._DoNothing object at 0x7ff48722fa30>\n",
      "tee: true\n",
      "logger: <Logger pyomo.contrib.mindtpy (INFO)>\n",
      "logging_level: 20\n",
      "integer_to_binary: false\n",
      "add_no_good_cuts: false\n",
      "use_tabu_list: false\n",
      "single_tree: false\n",
      "solution_pool: false\n",
      "num_solution_iteration: 5\n",
      "cycling_check: true\n",
      "feasibility_norm: L_infinity\n",
      "differentiate_mode: reverse_symbolic\n",
      "use_mcpp: false\n",
      "calculate_dual_at_solution: true\n",
      "use_fbbt: false\n",
      "use_dual_bound: true\n",
      "partition_obj_nonlinear_terms: true\n",
      "quadratic_strategy: 0\n",
      "move_objective: false\n",
      "add_cuts_at_incumbent: false\n",
      "load_solutions: true\n",
      "heuristic_nonconvex: false\n",
      "init_strategy: rNLP\n",
      "level_coef: 0.5\n",
      "solution_limit: 10\n",
      "sqp_lag_scaling_coef: fixed\n",
      "fp_cutoffdecr: 0.1\n",
      "fp_iteration_limit: 20\n",
      "fp_projcuts: true\n",
      "fp_transfercuts: true\n",
      "fp_projzerotol: 0.0001\n",
      "fp_mipgap: 0.01\n",
      "fp_discrete_only: true\n",
      "fp_main_norm: L1\n",
      "fp_norm_constraint: true\n",
      "fp_norm_constraint_coef: 1.0\n",
      "add_slack: false\n",
      "max_slack: 1000.0\n",
      "OA_penalty_factor: 1000.0\n",
      "equality_relaxation: false\n",
      "linearize_inactive: false\n",
      "nlp_solver: cyipopt\n",
      "nlp_solver_args:\n",
      "  options: {hessian_approximation: limited-memory, linear_solver: mumps, output_file: console_output}\n",
      "mip_solver: gurobi\n",
      "mip_solver_args:\n",
      "mip_solver_mipgap: 0.0001\n",
      "threads: 0\n",
      "regularization_mip_threads: 0\n",
      "solver_tee: false\n",
      "mip_solver_tee: true\n",
      "nlp_solver_tee: true\n",
      "mip_regularization_solver: None\n",
      "absolute_bound_tolerance: 0.0001\n",
      "relative_bound_tolerance: 0.001\n",
      "small_dual_tolerance: 1.0e-08\n",
      "integer_tolerance: 1.0e-05\n",
      "constraint_tolerance: 1.0e-06\n",
      "variable_tolerance: 1.0e-08\n",
      "zero_tolerance: 1.0e-08\n",
      "obj_bound: 1000000000000000.0\n",
      "continuous_var_bound: 10000000000.0\n",
      "integer_var_bound: 1000000000.0\n",
      "initial_bound_coef: 0.1\n",
      "\n",
      "-----------------------------------------------------------------------------------------------\n",
      "               Mixed-Integer Nonlinear Decomposition Toolbox in Pyomo (MindtPy)                \n",
      "-----------------------------------------------------------------------------------------------\n",
      "For more information, please visit \n",
      "https://pyomo.readthedocs.io/en/stable/contributed_packages/mindtpy.html\n",
      "If you use this software, please cite the following:\n",
      "Bernal, David E., et al. Mixed-integer nonlinear decomposition toolbox for Pyomo (MindtPy).\n",
      "Computer Aided Chemical Engineering. Vol. 44. Elsevier, 2018. 895-900.\n",
      "\n",
      "Original model has 208 constraints (0 nonlinear) and 0 disjunctions, with 89 variables, of which 67 are binary, 0 are integer, and 22 are continuous.\n",
      "rNLP is the initial strategy being used.\n",
      "\n",
      " ===============================================================================================\n",
      " Iteration | Subproblem Type | Objective Value | Primal Bound |   Dual Bound |   Gap   | Time(s)\n",
      "\n"
     ]
    },
    {
     "name": "stdout",
     "output_type": "stream",
     "text": [
      "3\n",
      "[0, 0, 0]\n",
      "3\n",
      "[0, 0, 0]\n",
      "initialized\n",
      "initialized\n",
      "initialized\n",
      "initialized\n",
      "initialized\n",
      "initialized\n",
      "initialized\n",
      "initialized\n",
      "initialized\n",
      "initialized\n",
      "solving rnlp\n",
      "iteration\n",
      "iteration\n",
      "iteration\n",
      "iteration\n",
      "iteration\n",
      "iteration\n",
      "iteration\n",
      "iteration\n",
      "iteration\n",
      "iteration\n",
      "iteration\n",
      "iteration\n",
      "iteration\n",
      "iteration\n",
      "iteration\n",
      "iteration\n",
      "iteration\n",
      "iteration\n",
      "WARNING (W1002): Setting Var 'cov_y[0,10]' to a numeric value\n",
      "`-2.1233322951504186e-09` outside the bounds (0, 1).\n",
      "    See also https://pyomo.readthedocs.io/en/latest/errors.html#w1002\n",
      "WARNING (W1002): Setting Var 'cov_y[0,9]' to a numeric value\n",
      "`-9.682534338534809e-10` outside the bounds (0, 1).\n",
      "    See also https://pyomo.readthedocs.io/en/latest/errors.html#w1002\n",
      "WARNING (W1002): Setting Var 'cov_y[1,10]' to a numeric value\n",
      "`-5.057934096021681e-09` outside the bounds (0, 1).\n",
      "    See also https://pyomo.readthedocs.io/en/latest/errors.html#w1002\n",
      "WARNING (W1002): Setting Var 'cov_y[1,8]' to a numeric value\n",
      "`-3.6034803835796676e-09` outside the bounds (0, 1).\n",
      "    See also https://pyomo.readthedocs.io/en/latest/errors.html#w1002\n",
      "WARNING (W1002): Setting Var 'cov_y[1,9]' to a numeric value\n",
      "`-4.9154863216676736e-09` outside the bounds (0, 1).\n",
      "    See also https://pyomo.readthedocs.io/en/latest/errors.html#w1002\n",
      "WARNING (W1002): Setting Var 'cov_y[10,10]' to a numeric value\n",
      "`-9.734566669091586e-09` outside the bounds (0, 1).\n",
      "    See also https://pyomo.readthedocs.io/en/latest/errors.html#w1002\n",
      "WARNING (W1002): Setting Var 'cov_y[2,10]' to a numeric value\n",
      "`-5.452239447414113e-09` outside the bounds (0, 1).\n",
      "    See also https://pyomo.readthedocs.io/en/latest/errors.html#w1002\n",
      "WARNING (W1002): Setting Var 'cov_y[2,2]' to a numeric value\n",
      "`-5.057222141788039e-09` outside the bounds (0, 1).\n",
      "    See also https://pyomo.readthedocs.io/en/latest/errors.html#w1002\n",
      "WARNING (W1002): Setting Var 'cov_y[2,3]' to a numeric value\n",
      "`-8.97888281770508e-10` outside the bounds (0, 1).\n",
      "    See also https://pyomo.readthedocs.io/en/latest/errors.html#w1002\n",
      "WARNING (W1002): Setting Var 'cov_y[2,4]' to a numeric value\n",
      "`-1.5247414596375581e-09` outside the bounds (0, 1).\n",
      "    See also https://pyomo.readthedocs.io/en/latest/errors.html#w1002\n",
      "WARNING (W1002): Setting Var 'cov_y[2,5]' to a numeric value\n",
      "`-1.7908886192289166e-09` outside the bounds (0, 1).\n",
      "    See also https://pyomo.readthedocs.io/en/latest/errors.html#w1002\n",
      "WARNING (W1002): Setting Var 'cov_y[2,6]' to a numeric value\n",
      "`-1.895676249459785e-09` outside the bounds (0, 1).\n",
      "    See also https://pyomo.readthedocs.io/en/latest/errors.html#w1002\n",
      "WARNING (W1002): Setting Var 'cov_y[2,7]' to a numeric value\n",
      "`-2.859093074136801e-09` outside the bounds (0, 1).\n",
      "    See also https://pyomo.readthedocs.io/en/latest/errors.html#w1002\n",
      "WARNING (W1002): Setting Var 'cov_y[2,8]' to a numeric value\n",
      "`-4.257262890871804e-09` outside the bounds (0, 1).\n",
      "    See also https://pyomo.readthedocs.io/en/latest/errors.html#w1002\n",
      "WARNING (W1002): Setting Var 'cov_y[2,9]' to a numeric value\n",
      "`-5.1098619016637875e-09` outside the bounds (0, 1).\n",
      "    See also https://pyomo.readthedocs.io/en/latest/errors.html#w1002\n",
      "WARNING (W1002): Setting Var 'cov_y[3,10]' to a numeric value\n",
      "`-4.866180025730672e-09` outside the bounds (0, 1).\n",
      "    See also https://pyomo.readthedocs.io/en/latest/errors.html#w1002\n",
      "WARNING (W1002): Setting Var 'cov_y[3,8]' to a numeric value\n",
      "`-3.501920925872082e-09` outside the bounds (0, 1).\n",
      "    See also https://pyomo.readthedocs.io/en/latest/errors.html#w1002\n",
      "WARNING (W1002): Setting Var 'cov_y[3,9]' to a numeric value\n",
      "`-4.733340561379289e-09` outside the bounds (0, 1).\n",
      "    See also https://pyomo.readthedocs.io/en/latest/errors.html#w1002\n",
      "WARNING (W1002): Setting Var 'cov_y[4,10]' to a numeric value\n",
      "`-4.8662050164393126e-09` outside the bounds (0, 1).\n",
      "    See also https://pyomo.readthedocs.io/en/latest/errors.html#w1002\n",
      "WARNING (W1002): Setting Var 'cov_y[4,8]' to a numeric value\n",
      "`-3.5019669925548235e-09` outside the bounds (0, 1).\n",
      "    See also https://pyomo.readthedocs.io/en/latest/errors.html#w1002\n",
      "WARNING (W1002): Setting Var 'cov_y[4,9]' to a numeric value\n",
      "`-4.733367268159783e-09` outside the bounds (0, 1).\n",
      "    See also https://pyomo.readthedocs.io/en/latest/errors.html#w1002\n",
      "WARNING (W1002): Setting Var 'cov_y[5,10]' to a numeric value\n",
      "`-4.866202993213619e-09` outside the bounds (0, 1).\n",
      "    See also https://pyomo.readthedocs.io/en/latest/errors.html#w1002\n",
      "WARNING (W1002): Setting Var 'cov_y[5,8]' to a numeric value\n",
      "`-3.5019660255211524e-09` outside the bounds (0, 1).\n",
      "    See also https://pyomo.readthedocs.io/en/latest/errors.html#w1002\n",
      "WARNING (W1002): Setting Var 'cov_y[5,9]' to a numeric value\n",
      "`-4.733365739528969e-09` outside the bounds (0, 1).\n",
      "    See also https://pyomo.readthedocs.io/en/latest/errors.html#w1002\n",
      "WARNING (W1002): Setting Var 'cov_y[6,10]' to a numeric value\n",
      "`-4.8662053361084575e-09` outside the bounds (0, 1).\n",
      "    See also https://pyomo.readthedocs.io/en/latest/errors.html#w1002\n",
      "WARNING (W1002): Setting Var 'cov_y[6,8]' to a numeric value\n",
      "`-3.5019698094017365e-09` outside the bounds (0, 1).\n",
      "    See also https://pyomo.readthedocs.io/en/latest/errors.html#w1002\n",
      "WARNING (W1002): Setting Var 'cov_y[6,9]' to a numeric value\n",
      "`-4.733368088531369e-09` outside the bounds (0, 1).\n",
      "    See also https://pyomo.readthedocs.io/en/latest/errors.html#w1002\n",
      "WARNING (W1002): Setting Var 'cov_y[7,10]' to a numeric value\n",
      "`-5.419777217285566e-09` outside the bounds (0, 1).\n",
      "    See also https://pyomo.readthedocs.io/en/latest/errors.html#w1002\n",
      "WARNING (W1002): Setting Var 'cov_y[7,8]' to a numeric value\n",
      "`-4.488136424092938e-09` outside the bounds (0, 1).\n",
      "    See also https://pyomo.readthedocs.io/en/latest/errors.html#w1002\n",
      "WARNING (W1002): Setting Var 'cov_y[7,9]' to a numeric value\n",
      "`-5.3459817713996665e-09` outside the bounds (0, 1).\n",
      "    See also https://pyomo.readthedocs.io/en/latest/errors.html#w1002\n",
      "WARNING (W1002): Setting Var 'cov_y[8,10]' to a numeric value\n",
      "`-6.1530203960486265e-09` outside the bounds (0, 1).\n",
      "    See also https://pyomo.readthedocs.io/en/latest/errors.html#w1002\n",
      "WARNING (W1002): Setting Var 'cov_y[8,8]' to a numeric value\n",
      "`-7.005634732651374e-09` outside the bounds (0, 1).\n",
      "    See also https://pyomo.readthedocs.io/en/latest/errors.html#w1002\n",
      "WARNING (W1002): Setting Var 'cov_y[8,9]' to a numeric value\n",
      "`-6.131966986749037e-09` outside the bounds (0, 1).\n",
      "    See also https://pyomo.readthedocs.io/en/latest/errors.html#w1002\n",
      "WARNING (W1002): Setting Var 'cov_y[9,10]' to a numeric value\n",
      "`-6.518419761985409e-09` outside the bounds (0, 1).\n",
      "    See also https://pyomo.readthedocs.io/en/latest/errors.html#w1002\n",
      "WARNING (W1002): Setting Var 'cov_y[9,9]' to a numeric value\n",
      "`-9.468476246812317e-09` outside the bounds (0, 1).\n",
      "    See also https://pyomo.readthedocs.io/en/latest/errors.html#w1002\n"
     ]
    },
    {
     "name": "stderr",
     "output_type": "stream",
     "text": [
      "         -       Relaxed NLP          -2.68829           -inf       -2.68829      nan%      0.55\n"
     ]
    },
    {
     "name": "stdout",
     "output_type": "stream",
     "text": [
      "Set parameter Username\n",
      "Academic license - for non-commercial use only - expires 2024-03-01\n",
      "Warning: row 0 (name \"c_e_x3_\") contains 28 small (<= 1e-13) coefficient(s), ignored\n",
      "Warning: row 1 (name \"c_e_x71_\") contains 70 small (<= 1e-13) coefficient(s), ignored\n",
      "Warning: row 2 (name \"c_e_x73_\") contains 98 small (<= 1e-13) coefficient(s), ignored\n",
      "Warning: row 3 (name \"c_e_x75_\") contains 141 small (<= 1e-13) coefficient(s), ignored\n",
      "Warning: row 4 (name \"c_e_x77_\") contains 204 small (<= 1e-13) coefficient(s), ignored\n",
      "Warning: row 5 (name \"c_e_x79_\") contains 244 small (<= 1e-13) coefficient(s), ignored\n",
      "Warning: row 6 (name \"c_e_x81_\") contains 307 small (<= 1e-13) coefficient(s), ignored\n",
      "Warning: row 7 (name \"c_e_x83_\") contains 335 small (<= 1e-13) coefficient(s), ignored\n",
      "Warning: row 8 (name \"c_e_x85_\") contains 377 small (<= 1e-13) coefficient(s), ignored\n",
      "Warning: row 9 (name \"c_e_x87_\") contains 440 small (<= 1e-13) coefficient(s), ignored\n",
      "skipping further warning of this kind\n",
      "Warning: lp file contains 440 small (<= 1e-13) coefficient(s), ignored\n",
      "Read LP format model from file /tmp/tmpx5ydxp8q.pyomo.lp\n",
      "Reading time = 0.00 seconds\n",
      "x1: 210 rows, 90 columns, 721 nonzeros\n",
      "Read MIP start from file /tmp/tmp6tl7juns.gurobi.mst\n",
      "Gurobi Optimizer version 10.0.2 build v10.0.2rc0 (linux64)\n",
      "\n",
      "CPU model: Intel(R) Core(TM) i7-8850H CPU @ 2.60GHz, instruction set [SSE2|AVX|AVX2]\n",
      "Thread count: 2 physical cores, 2 logical processors, using up to 2 threads\n",
      "\n",
      "Optimize a model with 210 rows, 90 columns and 721 nonzeros\n",
      "Model fingerprint: 0x832d33d8\n",
      "Variable types: 23 continuous, 67 integer (67 binary)\n",
      "Coefficient statistics:\n",
      "  Matrix range     [1e-13, 2e+03]\n",
      "  Objective range  [1e+00, 1e+00]\n",
      "  Bounds range     [1e+00, 1e+00]\n",
      "  RHS range        [1e+00, 2e+03]\n",
      "Warning: Model contains large matrix coefficient range\n",
      "         Consider reformulating model or setting NumericFocus parameter\n",
      "         to avoid numerical issues.\n",
      "\n",
      "User MIP start did not produce a new incumbent solution\n",
      "User MIP start violates constraint c_e_x3_ by 0.536739357\n",
      "\n",
      "Presolve removed 210 rows and 90 columns\n",
      "Presolve time: 0.01s\n",
      "Presolve: All rows and columns removed\n",
      "\n",
      "Explored 0 nodes (0 simplex iterations) in 0.01 seconds (0.00 work units)\n",
      "Thread count was 1 (of 2 available processors)\n",
      "\n",
      "Solution count 1: -2.68829 \n",
      "No other solutions better than -2.68829\n",
      "\n",
      "Optimal solution found (tolerance 1.00e-04)\n",
      "Best objective -2.688286311320e+00, best bound -2.688286311320e+00, gap 0.0000%\n"
     ]
    },
    {
     "name": "stderr",
     "output_type": "stream",
     "text": [
      "         1              MILP          -2.68829           -inf       -2.68829      nan%      0.71\n",
      "*        1         Fixed NLP          -8.60721       -8.60721       -2.68829    68.77%      0.84\n"
     ]
    },
    {
     "name": "stdout",
     "output_type": "stream",
     "text": [
      "iteration\n",
      "iteration\n",
      "iteration\n",
      "iteration\n",
      "iteration\n",
      "Set parameter Username\n",
      "Academic license - for non-commercial use only - expires 2024-03-01\n",
      "Warning: row 0 (name \"c_e_x3_\") contains 28 small (<= 1e-13) coefficient(s), ignored\n",
      "Warning: row 1 (name \"c_e_x71_\") contains 70 small (<= 1e-13) coefficient(s), ignored\n",
      "Warning: row 2 (name \"c_e_x73_\") contains 98 small (<= 1e-13) coefficient(s), ignored\n",
      "Warning: row 3 (name \"c_e_x75_\") contains 141 small (<= 1e-13) coefficient(s), ignored\n",
      "Warning: row 4 (name \"c_e_x77_\") contains 204 small (<= 1e-13) coefficient(s), ignored\n",
      "Warning: row 5 (name \"c_e_x79_\") contains 244 small (<= 1e-13) coefficient(s), ignored\n",
      "Warning: row 6 (name \"c_e_x81_\") contains 307 small (<= 1e-13) coefficient(s), ignored\n",
      "Warning: row 7 (name \"c_e_x83_\") contains 335 small (<= 1e-13) coefficient(s), ignored\n",
      "Warning: row 8 (name \"c_e_x85_\") contains 377 small (<= 1e-13) coefficient(s), ignored\n",
      "Warning: row 9 (name \"c_e_x87_\") contains 440 small (<= 1e-13) coefficient(s), ignored\n",
      "skipping further warning of this kind\n",
      "Warning: lp file contains 440 small (<= 1e-13) coefficient(s), ignored\n",
      "Read LP format model from file /tmp/tmpzau1xpzh.pyomo.lp\n",
      "Reading time = 0.00 seconds\n",
      "x1: 211 rows, 90 columns, 732 nonzeros\n",
      "Read MIP start from file /tmp/tmphkws4bck.gurobi.mst\n",
      "Gurobi Optimizer version 10.0.2 build v10.0.2rc0 (linux64)\n",
      "\n",
      "CPU model: Intel(R) Core(TM) i7-8850H CPU @ 2.60GHz, instruction set [SSE2|AVX|AVX2]\n",
      "Thread count: 2 physical cores, 2 logical processors, using up to 2 threads\n",
      "\n",
      "Optimize a model with 211 rows, 90 columns and 732 nonzeros\n",
      "Model fingerprint: 0x9514d508\n",
      "Variable types: 23 continuous, 67 integer (67 binary)\n",
      "Coefficient statistics:\n",
      "  Matrix range     [1e-13, 2e+03]\n",
      "  Objective range  [1e+00, 1e+00]\n",
      "  Bounds range     [1e+00, 1e+00]\n",
      "  RHS range        [1e+00, 2e+03]\n",
      "Warning: Model contains large matrix coefficient range\n",
      "         Consider reformulating model or setting NumericFocus parameter\n",
      "         to avoid numerical issues.\n",
      "\n",
      "User MIP start produced solution with objective -2.68829 (0.00s)\n",
      "Loaded user MIP start with objective -2.68829\n",
      "\n",
      "Presolve removed 198 rows and 78 columns\n",
      "Presolve time: 0.00s\n",
      "Presolved: 13 rows, 12 columns, 68 nonzeros\n",
      "Found heuristic solution: objective -2.6882863\n",
      "Variable types: 3 continuous, 9 integer (9 binary)\n",
      "\n",
      "Explored 0 nodes (0 simplex iterations) in 0.01 seconds (0.00 work units)\n",
      "Thread count was 2 (of 2 available processors)\n",
      "\n",
      "Solution count 1: -2.68829 \n",
      "No other solutions better than -2.68829\n",
      "\n",
      "Optimal solution found (tolerance 1.00e-04)\n",
      "Best objective -2.688286257213e+00, best bound -2.688286257213e+00, gap 0.0000%\n"
     ]
    },
    {
     "name": "stderr",
     "output_type": "stream",
     "text": [
      "         2              MILP          -2.68829       -8.60721       -2.68829    68.77%      0.98\n",
      "Cycling happens after 2 main iterations. The same combination is obtained in iteration 1 This issue happens when the NLP subproblem violates constraint qualification. Convergence to optimal solution is not guaranteed.\n",
      "Final bound values: Primal Bound: -8.607207175818886  Dual Bound: -2.6882863113205047\n",
      " ===============================================================================================\n",
      " Primal integral          :    0.0000 \n",
      " Dual integral            :    0.0000 \n",
      " Primal-dual gap integral :    0.0000 \n"
     ]
    }
   ],
   "source": [
    "mod = calculator.continuous_optimization(mixed_integer=mip_option, \n",
    "                      obj=objective, \n",
    "                    fix=fix_opt, \n",
    "                    upper_diagonal_only=sparse_opt, \n",
    "                    num_dynamic_t_name = num_dynamic_time, \n",
    "                    manual_number = manual_num, \n",
    "                    budget=budget_opt,\n",
    "                    #init_cov_y= init_cov_y,\n",
    "                    initial_fim = fim_prior,\n",
    "                    dynamic_install_initial = dynamic_install_init, \n",
    "                    static_dynamic_pair=static_dynamic,\n",
    "                    time_interval_all_dynamic = time_interval_for_all,\n",
    "                    total_manual_num_init=total_manual_init)\n",
    "\n",
    "mod = calculator.solve(mod, mip_option=mip_option, objective = objective)"
   ]
  },
  {
   "cell_type": "code",
   "execution_count": 39,
   "id": "ec254707",
   "metadata": {},
   "outputs": [
    {
     "name": "stdout",
     "output_type": "stream",
     "text": [
      "[[  0.75317314   1.53825603  -1.0790614   -6.59330186]\n",
      " [  1.53825603   3.88725535  -2.1115524  -15.76829252]\n",
      " [ -1.0790614   -2.1115524    1.58585603   9.20472656]\n",
      " [ -6.59330186 -15.76829252   9.20472656  64.90581524]]\n",
      "trace: 71.1320997493435\n",
      "det: 0.00018278368069989418\n",
      "[7.07138164e+01 4.09607776e-01 7.87415193e-03 8.01421814e-04]\n",
      "CA.static :  0.0\n",
      "CB.static :  1.0\n",
      "CC.static :  0.0\n",
      "CA.dynamic\n",
      "[0. 0. 0. 0. 0. 0. 0. 0.]\n",
      "pyomo calculated cost: 2000.0\n",
      "if install dynamic measurements:\n",
      "0.0\n"
     ]
    }
   ],
   "source": [
    "fim_result = np.zeros((4,4))\n",
    "for i in range(4):\n",
    "    for j in range(i,4):\n",
    "        fim_result[i,j] = fim_result[j,i] = pyo.value(mod.TotalFIM[i,j])\n",
    "        \n",
    "print(fim_result)  \n",
    "print('trace:', np.trace(fim_result))\n",
    "print('det:', np.linalg.det(fim_result))\n",
    "print(np.linalg.eigvals(fim_result))\n",
    "\n",
    "#print(\"Pyomo OF:\", pyo.value(mod.Obj))\n",
    "#print(\"Log_det:\", np.log(np.linalg.det(fim_result)))\n",
    "\n",
    "ans_y, sol_y = calculator.extract_solutions(mod)\n",
    "print('pyomo calculated cost:', pyo.value(mod.cost))\n",
    "print(\"if install dynamic measurements:\")\n",
    "print(pyo.value(mod.if_install_dynamic[3]))\n",
    "#print(pyo.value(mod.if_install_dynamic[4]))\n",
    "#print(pyo.value(mod.if_install_dynamic[5]))"
   ]
  },
  {
   "cell_type": "code",
   "execution_count": null,
   "id": "b3c6edd4",
   "metadata": {},
   "outputs": [],
   "source": []
  }
 ],
 "metadata": {
  "kernelspec": {
   "display_name": "Python 3 (ipykernel)",
   "language": "python",
   "name": "python3"
  },
  "language_info": {
   "codemirror_mode": {
    "name": "ipython",
    "version": 3
   },
   "file_extension": ".py",
   "mimetype": "text/x-python",
   "name": "python",
   "nbconvert_exporter": "python",
   "pygments_lexer": "ipython3",
   "version": "3.8.17"
  }
 },
 "nbformat": 4,
 "nbformat_minor": 5
}
