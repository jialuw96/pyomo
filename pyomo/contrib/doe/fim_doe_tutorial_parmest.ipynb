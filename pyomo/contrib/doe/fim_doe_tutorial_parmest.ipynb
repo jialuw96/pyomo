{
 "cells": [
  {
   "cell_type": "markdown",
   "id": "opposite-garage",
   "metadata": {},
   "source": [
    "# Reactor Kinetics Example \n",
    "\n",
    "Jialu Wang (jwang44@nd.edu) and Alex Dowling (adowling@nd.edu)\n",
    "\n",
    "University of Notre Dame\n",
    "\n",
    "This notebook conducts design of experiments for a reactor kinetics experiment with the Pyomo.DOE.\n",
    "    "
   ]
  },
  {
   "cell_type": "markdown",
   "id": "80223b36",
   "metadata": {},
   "source": [
    "## Step 0: Import Pyomo and Pyomo.DOE module"
   ]
  },
  {
   "cell_type": "code",
   "execution_count": 1,
   "id": "worth-origin",
   "metadata": {},
   "outputs": [
    {
     "name": "stdout",
     "output_type": "stream",
     "text": [
      "[    0.00] Initializing mpi-sppy\n"
     ]
    }
   ],
   "source": [
    "import matplotlib.pyplot as plt\n",
    "from pyomo.environ import *\n",
    "from pyomo.dae import *\n",
    "\n",
    "import numpy as np\n",
    "#from scipy.interpolate import interp2d\n",
    "import pandas as pd \n",
    "from itertools import permutations, product, combinations\n",
    "#import idaes\n",
    "\n",
    "from fim_doe import *\n",
    "\n",
    "import pyomo.common.unittest as unittest"
   ]
  },
  {
   "cell_type": "markdown",
   "id": "graphic-controversy",
   "metadata": {},
   "source": [
    "## Step 1: Import Reaction Example Mathematical Model"
   ]
  },
  {
   "cell_type": "markdown",
   "id": "disturbed-prediction",
   "metadata": {},
   "source": [
    "Consider two chemical reactions that converts molecule $A$ to desired product $B$ and a less valuable side-product $C$.\n",
    "\n",
    "$A \\overset{k_1}{\\rightarrow} B \\overset{k_2}{\\rightarrow} C$\n",
    "\n",
    "Our ultimate goals is to design a large-scale continous reactor that maximizes the production of $B$. This general sequential reactions problem is widely applicable to CO$_2$ capture and industry more broadly (petrochemicals, pharmasuticals, etc.).\n",
    "\n",
    "The rate laws for these two chemical reactions are:\n",
    "\n",
    "$r_A = -k_1 C_A$\n",
    "\n",
    "$r_B = k_1 C_A - k_2 C_B$\n",
    "\n",
    "$r_C = k_2 C_B$\n",
    "\n",
    "Here, $C_A$, $C_B$, and $C_C$ are the concentrations of each species. The rate constants $k_1$ and $k_2$ depend on temperature as follows:\n",
    "\n",
    "$k_1 = A_1 \\exp{\\frac{-E_1}{R T}}$\n",
    "\n",
    "$k_2 = A_2 \\exp{\\frac{-E_2}{R T}}$\n",
    "\n",
    "$A_1, A_2, E_1$, and $E_2$ are fitted model parameters. $R$ is the ideal-gas constant and $T$ is absolute temperature.\n",
    "\n",
    "Using the **CCSI$^2$ toolset**, we would like do the following perform:\n",
    "\n",
    "Perform **uncertainty quantification** and **design of experiments** on a small-scale **batch reactor** to infer parameters $A_1$, $A_2$, $E_1$, and $E_2$."
   ]
  },
  {
   "cell_type": "markdown",
   "id": "sweet-niger",
   "metadata": {},
   "source": [
    "### Batch reactor\n",
    "\n",
    "The concenrations in a batch reactor evolve with time per the following differential equations:\n",
    "\n",
    "$$ \\frac{d C_A}{dt} = r_A = -k_1 C_A $$\n",
    "\n",
    "$$ \\frac{d C_B}{dt} = r_B = k_1 C_A - k_2 C_B $$\n",
    "\n",
    "$$ \\frac{d C_C}{dt} = r_C = k_2 C_B $$\n",
    "\n",
    "This is a linear system of differential equations. Assuming the feed is only species $A$, i.e., \n",
    "\n",
    "$$C_A(t=0) = C_{A0} \\quad C_B(t=0) = 0 \\quad C_C(t=0) = 0$$\n",
    "\n",
    "When the temperature is constant, it leads to the following analytic solution:\n",
    "\n",
    "$$C_A(t) = C_{A,0} \\exp(-k_1 t)$$\n",
    "\n",
    "$$C_B(t) = \\frac{k_1}{k_2 - k_1} C_{A,0} \\left[\\exp(-k_1 t) - \\exp(-k_2 t) \\right]$$\n",
    "\n",
    "$$C_C(t) = C_{A,0} - \\frac{k_2}{k_2 - k_1} C_{A,0} \\exp(-k_1 t) + \\frac{k_1}{k_2 - k_1} \\exp(-k_2 t) C_{A,0} = C_{A,0} - C_{A}(t) - C_{B}(t)$$"
   ]
  },
  {
   "cell_type": "code",
   "execution_count": 2,
   "id": "eligible-robert",
   "metadata": {},
   "outputs": [],
   "source": [
    "from reactor_kinetics_parmest import *"
   ]
  },
  {
   "cell_type": "markdown",
   "id": "6f7434dc",
   "metadata": {},
   "source": [
    "## Step 2: Define inputs"
   ]
  },
  {
   "cell_type": "code",
   "execution_count": 3,
   "id": "d576e9c4",
   "metadata": {
    "scrolled": true
   },
   "outputs": [
    {
     "name": "stdout",
     "output_type": "stream",
     "text": [
      "All measurements are flattened.\n",
      "Flatten measurement name: ['C_index_CA', 'C_index_CB', 'C_index_CC']\n"
     ]
    }
   ],
   "source": [
    "# Create model function\n",
    "createmod = create_model\n",
    "\n",
    "# discretization by Pyomo.DAE\n",
    "disc = disc_for_measure\n",
    "\n",
    "# Control time set [h]\n",
    "t_control = [0, 0.125, 0.25, 0.375, 0.5, 0.625, 0.75, 0.875, 1]\n",
    "    \n",
    "# Measurement time points [h]\n",
    "t_measure = [0, 0.125, 0.25, 0.375, 0.5, 0.625, 0.75, 0.875, 1]\n",
    "\n",
    "# design variable and its control time set\n",
    "dv_pass = {'CA0': [0],'T': t_control}\n",
    "    \n",
    "# Create measurement object\n",
    "measure_pass = {'C':{'CA': t_measure, 'CB': t_measure, 'CC': t_measure}}\n",
    "measure_class =  Measurements(measure_pass)\n",
    "\n",
    "# Define parameter nominal value \n",
    "parameter_dict = {'A1': 84.79085853498033, 'A2': 371.71773413976416, 'E1': 7.777032028026428, 'E2': 15.047135137500822}"
   ]
  },
  {
   "cell_type": "code",
   "execution_count": 4,
   "id": "89834696",
   "metadata": {},
   "outputs": [
    {
     "name": "stdout",
     "output_type": "stream",
     "text": [
      "['C[CA,0]', 'C[CA,0.125]', 'C[CA,0.25]', 'C[CA,0.375]', 'C[CA,0.5]', 'C[CA,0.625]', 'C[CA,0.75]', 'C[CA,0.875]', 'C[CA,1]', 'C[CB,0]', 'C[CB,0.125]', 'C[CB,0.25]', 'C[CB,0.375]', 'C[CB,0.5]', 'C[CB,0.625]', 'C[CB,0.75]', 'C[CB,0.875]', 'C[CB,1]', 'C[CC,0]', 'C[CC,0.125]', 'C[CC,0.25]', 'C[CC,0.375]', 'C[CC,0.5]', 'C[CC,0.625]', 'C[CC,0.75]', 'C[CC,0.875]', 'C[CC,1]']\n"
     ]
    }
   ],
   "source": [
    "print(measure_class.model_measure_name_kaug)"
   ]
  },
  {
   "cell_type": "code",
   "execution_count": 5,
   "id": "3017e444",
   "metadata": {
    "scrolled": true
   },
   "outputs": [
    {
     "name": "stdout",
     "output_type": "stream",
     "text": [
      "{'A1': {0: 84.8756493935153, 1: 84.79085853498033, 2: 84.79085853498033, 3: 84.79085853498033, 4: 84.70606767644534, 5: 84.79085853498033, 6: 84.79085853498033, 7: 84.79085853498033}, 'A2': {0: 371.71773413976416, 1: 372.0894518739039, 2: 371.71773413976416, 3: 371.71773413976416, 4: 371.71773413976416, 5: 371.34601640562437, 6: 371.71773413976416, 7: 371.71773413976416}, 'E1': {0: 7.777032028026428, 1: 7.777032028026428, 2: 7.784809060054453, 3: 7.777032028026428, 4: 7.777032028026428, 5: 7.777032028026428, 6: 7.769254995998401, 7: 7.777032028026428}, 'E2': {0: 15.047135137500822, 1: 15.047135137500822, 2: 15.047135137500822, 3: 15.06218227263832, 4: 15.047135137500822, 5: 15.047135137500822, 6: 15.047135137500822, 7: 15.032088002363322}, 'jac-index': {'A1': [0, 4], 'A2': [1, 5], 'E1': [2, 6], 'E2': [3, 7]}, 'eps-abs': {'A1': 0.16958171706996067, 'A2': 0.7434354682795283, 'E1': 0.015554064056052856, 'E2': 0.030094270275001646}, 'scena-name': [0, 1, 2, 3, 4, 5, 6, 7], 'scena-name-str': ['0', '1', '2', '3', '4', '5', '6', '7']}\n"
     ]
    }
   ],
   "source": [
    "pd = Scenario_generator(parameter_dict)\n",
    "pd1 = pd.simultaneous_scenario()\n",
    "\n",
    "print(pd1)"
   ]
  },
  {
   "cell_type": "code",
   "execution_count": 6,
   "id": "47137cb2",
   "metadata": {},
   "outputs": [],
   "source": [
    "def generate_exp(t_set, CA0, T):  \n",
    "    '''Generate experiments. \n",
    "    t_set: time control set for T.\n",
    "    CA0: CA0 value\n",
    "    T: A list of T \n",
    "    '''\n",
    "    assert(len(t_set)==len(T)), 'T should have the same length as t_set'\n",
    "    \n",
    "    T_con_initial = {}\n",
    "    for t, tim in enumerate(t_set):\n",
    "        T_con_initial[tim] = T[t]\n",
    "        \n",
    "    dv_dict_overall = {'CA0': {0: CA0},'T': T_con_initial}\n",
    "    return dv_dict_overall"
   ]
  },
  {
   "cell_type": "code",
   "execution_count": 7,
   "id": "written-tours",
   "metadata": {},
   "outputs": [
    {
     "name": "stdout",
     "output_type": "stream",
     "text": [
      "The prior information FIM: [[0. 0. 0. 0.]\n",
      " [0. 0. 0. 0.]\n",
      " [0. 0. 0. 0.]\n",
      " [0. 0. 0. 0.]]\n",
      "Prior Det: 0.0\n",
      "Eigenvalue of the prior experiments FIM: [0. 0. 0. 0.]\n",
      "Eigenvalue of the prior experiments FIM: [[1. 0. 0. 0.]\n",
      " [0. 1. 0. 0.]\n",
      " [0. 0. 1. 0.]\n",
      " [0. 0. 0. 1.]]\n"
     ]
    }
   ],
   "source": [
    "# empty prior\n",
    "prior_all = np.zeros((4,4))\n",
    "\n",
    "\n",
    "# add prior information\n",
    "#prior_5_300 = pd.read_csv('fim_5_300_scale.csv')\n",
    "#prior_5_300_500 = pd.read_csv('fim_5_300_500_scale.csv')\n",
    "\n",
    "#prior_all = prior_5_300\n",
    "\n",
    "\n",
    "prior_pass=np.asarray(prior_all)\n",
    "\n",
    "#L_initials = np.linalg.cholesky(prior_pass)\n",
    "#print(L_initials)\n",
    "\n",
    "print('The prior information FIM:', prior_pass)\n",
    "print('Prior Det:', np.linalg.det(prior_pass))\n",
    "print('Eigenvalue of the prior experiments FIM:', np.linalg.eigvals(prior_pass))\n",
    "print('Eigenvalue of the prior experiments FIM:', np.linalg.eigh(prior_pass)[1])"
   ]
  },
  {
   "cell_type": "markdown",
   "id": "9b09923c",
   "metadata": {},
   "source": [
    "### test mpisppy extensive form - sequential finite"
   ]
  },
  {
   "cell_type": "code",
   "execution_count": 10,
   "id": "65831dc9",
   "metadata": {},
   "outputs": [],
   "source": [
    "# choose from 'sequential_finite', 'direct_kaug'\n",
    "# 'sequential_sipopt', 'sequential_kaug' is also available\n",
    "sensi_opt = 'sequential_finite'\n",
    "#sensi_opt = 'direct_kaug'\n",
    "\n",
    "# model option\n",
    "if sensi_opt == 'direct_kaug':\n",
    "    args_ = [False]\n",
    "else:\n",
    "    args_ = [True]\n",
    "    \n",
    "\n",
    "# Define experiments\n",
    "exp1 = generate_exp(t_control, 5, [570, 300, 300, 300, 300, 300, 300, 300, 300])"
   ]
  },
  {
   "cell_type": "code",
   "execution_count": 11,
   "id": "bd9b88e5",
   "metadata": {
    "scrolled": true
   },
   "outputs": [
    {
     "name": "stdout",
     "output_type": "stream",
     "text": [
      "Sensitivity information is scaled by its corresponding parameter nominal value.\n",
      "{'A1': {0: 84.8756493935153, 1: 84.79085853498033, 2: 84.79085853498033, 3: 84.79085853498033, 4: 84.70606767644534, 5: 84.79085853498033, 6: 84.79085853498033, 7: 84.79085853498033}, 'A2': {0: 371.71773413976416, 1: 372.0894518739039, 2: 371.71773413976416, 3: 371.71773413976416, 4: 371.71773413976416, 5: 371.34601640562437, 6: 371.71773413976416, 7: 371.71773413976416}, 'E1': {0: 7.777032028026428, 1: 7.777032028026428, 2: 7.784809060054453, 3: 7.777032028026428, 4: 7.777032028026428, 5: 7.777032028026428, 6: 7.769254995998401, 7: 7.777032028026428}, 'E2': {0: 15.047135137500822, 1: 15.047135137500822, 2: 15.047135137500822, 3: 15.06218227263832, 4: 15.047135137500822, 5: 15.047135137500822, 6: 15.047135137500822, 7: 15.032088002363322}, 'jac-index': {'A1': [0, 4], 'A2': [1, 5], 'E1': [2, 6], 'E2': [3, 7]}, 'eps-abs': {'A1': 0.16958171706996067, 'A2': 0.7434354682795283, 'E1': 0.015554064056052856, 'E2': 0.030094270275001646}, 'scena-name': [0, 1, 2, 3, 4, 5, 6, 7], 'scena-name-str': ['0', '1', '2', '3', '4', '5', '6', '7']}\n",
      "[   11.94] Initializing SPBase\n",
      "Ipopt 3.13.2: \n",
      "\n",
      "******************************************************************************\n",
      "This program contains Ipopt, a library for large-scale nonlinear optimization.\n",
      " Ipopt is released as open source code under the Eclipse Public License (EPL).\n",
      "         For more information visit http://projects.coin-or.org/Ipopt\n",
      "\n",
      "This version of Ipopt was compiled from source code available at\n",
      "    https://github.com/IDAES/Ipopt as part of the Institute for the Design of\n",
      "    Advanced Energy Systems Process Systems Engineering Framework (IDAES PSE\n",
      "    Framework) Copyright (c) 2018-2019. See https://github.com/IDAES/idaes-pse.\n",
      "\n",
      "This version of Ipopt was compiled using HSL, a collection of Fortran codes\n",
      "    for large-scale scientific computation.  All technical papers, sales and\n",
      "    publicity material resulting from use of the HSL codes within IPOPT must\n",
      "    contain the following acknowledgement:\n",
      "        HSL, a collection of Fortran codes for large-scale scientific\n",
      "        computation. See http://www.hsl.rl.ac.uk.\n",
      "******************************************************************************\n",
      "\n",
      "This is Ipopt version 3.13.2, running with linear solver ma27.\n",
      "\n",
      "Number of nonzeros in equality constraint Jacobian...:    25131\n",
      "Number of nonzeros in inequality constraint Jacobian.:        0\n",
      "Number of nonzeros in Lagrangian Hessian.............:     2311\n",
      "\n",
      "Total number of variables............................:     6958\n",
      "                     variables with only lower bounds:     2312\n",
      "                variables with lower and upper bounds:      774\n",
      "                     variables with only upper bounds:        0\n",
      "Total number of equality constraints.................:     6958\n",
      "Total number of inequality constraints...............:        0\n",
      "        inequality constraints with only lower bounds:        0\n",
      "   inequality constraints with lower and upper bounds:        0\n",
      "        inequality constraints with only upper bounds:        0\n",
      "\n",
      "iter    objective    inf_pr   inf_du lg(mu)  ||d||  lg(rg) alpha_du alpha_pr  ls\n",
      "   0  0.0000000e+00 2.67e+02 1.00e+00  -1.0 0.00e+00    -  0.00e+00 0.00e+00   0\n",
      "   1  0.0000000e+00 6.10e+01 3.85e+02  -1.0 2.67e+02    -  2.54e-03 9.90e-01f  1\n",
      "   2  0.0000000e+00 1.74e+01 2.89e+02  -1.0 6.25e+01    -  6.65e-02 9.90e-01h  1\n",
      "   3  0.0000000e+00 1.29e-01 6.61e+01  -1.0 1.07e+01    -  7.90e-01 9.90e-01h  1\n",
      "   4  0.0000000e+00 4.60e-06 2.19e+02  -1.0 8.65e-02    -  9.91e-01 1.00e+00h  1\n",
      "   5  0.0000000e+00 3.64e-13 1.00e-06  -1.0 2.64e-06    -  1.00e+00 1.00e+00h  1\n",
      "\n",
      "Number of Iterations....: 5\n",
      "\n",
      "                                   (scaled)                 (unscaled)\n",
      "Objective...............:   0.0000000000000000e+00    0.0000000000000000e+00\n",
      "Dual infeasibility......:   0.0000000000000000e+00    0.0000000000000000e+00\n",
      "Constraint violation....:   1.5108639575720119e-13    3.6415315207705135e-13\n",
      "Complementarity.........:   0.0000000000000000e+00    0.0000000000000000e+00\n",
      "Overall NLP error.......:   1.5108639575720119e-13    3.6415315207705135e-13\n",
      "\n",
      "\n",
      "Number of objective function evaluations             = 6\n",
      "Number of objective gradient evaluations             = 6\n",
      "Number of equality constraint evaluations            = 6\n",
      "Number of inequality constraint evaluations          = 0\n",
      "Number of equality constraint Jacobian evaluations   = 6\n",
      "Number of inequality constraint Jacobian evaluations = 0\n",
      "Number of Lagrangian Hessian evaluations             = 5\n",
      "Total CPU secs in IPOPT (w/o function evaluations)   =      0.078\n",
      "Total CPU secs in NLP function evaluations           =      0.007\n",
      "\n",
      "EXIT: Optimal Solution Found.\n",
      "Build time with sequential_finite mode [s]: 0\n",
      "Solve time with sequential_finite mode [s]: 0.80855393409729\n",
      "Total wall clock time [s]: 1.4160821437835693\n",
      "Existed information has been added.\n",
      "FIM: [[  17.66733763   18.74907479  -30.09833141  -76.66335672]\n",
      " [  18.74907479   30.78667315  -30.04626402 -124.88329795]\n",
      " [ -30.09833141  -30.04626402   52.08798793  123.38481043]\n",
      " [ -76.66335672 -124.88329795  123.38481043  514.04755797]]\n",
      "Trace: 614.589556677042\n",
      "Determinant: 663.4981277714143\n",
      "Condition number: 6044.997967156015\n",
      "Minimal eigen value: 0.09719821767965939\n",
      "Eigen values: [5.87563028e+02 2.64907667e+01 9.71982177e-02 4.38563426e-01]\n",
      "Eigen vectors: [[ 0.14552155  0.4403084   0.86473015  0.19285682]\n",
      " [ 0.2270364  -0.06216021 -0.21780144  0.94718167]\n",
      " [-0.23603479 -0.85419248  0.4513987   0.10431684]\n",
      " [-0.93357674  0.26948066 -0.03230349  0.23403233]]\n"
     ]
    }
   ],
   "source": [
    "doe_object = DesignOfExperiments(parameter_dict, dv_pass,\n",
    "                                 measure_class, createmod,\n",
    "                                prior_FIM=prior_pass, discretize_model=disc, args=args_)\n",
    "\n",
    "\n",
    "result = doe_object.compute_FIM(exp1,mode=sensi_opt, FIM_store_name = 'dynamic.csv', \n",
    "                                scale_nominal_param_value=True, \n",
    "                                store_output = 'store_output', read_output=None,\n",
    "                                formula='central')\n",
    "\n",
    "\n",
    "result.calculate_FIM(doe_object.design_values)\n"
   ]
  },
  {
   "cell_type": "code",
   "execution_count": null,
   "id": "6d3ee3ff",
   "metadata": {},
   "outputs": [],
   "source": [
    "print(doe_object.jac)"
   ]
  },
  {
   "cell_type": "markdown",
   "id": "destroyed-african",
   "metadata": {},
   "source": [
    "## Method: Compute FIM \n",
    "\n",
    "This method computes an MBDoE optimization problem with no Degree of Freedom."
   ]
  },
  {
   "cell_type": "code",
   "execution_count": null,
   "id": "d3ee5ff9",
   "metadata": {},
   "outputs": [],
   "source": [
    "# choose from 'sequential_finite', 'direct_kaug'\n",
    "# 'sequential_sipopt', 'sequential_kaug' is also available\n",
    "#sensi_opt = 'sequential_finite'\n",
    "sensi_opt = 'direct_kaug'\n",
    "\n",
    "# model option\n",
    "if sensi_opt == 'direct_kaug':\n",
    "    args_ = [False]\n",
    "else:\n",
    "    args_ = [True]\n",
    "    \n",
    "\n",
    "# Define experiments\n",
    "exp1 = generate_exp(t_control, 5, [570, 300, 300, 300, 300, 300, 300, 300, 300])"
   ]
  },
  {
   "cell_type": "code",
   "execution_count": null,
   "id": "latin-medicare",
   "metadata": {
    "scrolled": true
   },
   "outputs": [],
   "source": [
    "doe_object = DesignOfExperiments(parameter_dict, dv_pass,\n",
    "                                 measure_class, createmod,\n",
    "                                prior_FIM=prior_pass, discretize_model=disc, args=args_)\n",
    "\n",
    "\n",
    "result = doe_object.compute_FIM(exp1,mode=sensi_opt, FIM_store_name = 'dynamic.csv', \n",
    "                                scale_nominal_param_value=True, \n",
    "                                store_output = 'store_output', read_output=None,\n",
    "                                formula='central')\n",
    "\n",
    "\n",
    "result.calculate_FIM(doe_object.design_values)\n"
   ]
  },
  {
   "cell_type": "code",
   "execution_count": null,
   "id": "64fc6da4",
   "metadata": {
    "scrolled": true
   },
   "outputs": [],
   "source": [
    "print('======Result summary======')\n",
    "print('Four design criteria log10() value:')\n",
    "print('A-optimality:', np.log10(result.trace))\n",
    "print('D-optimality:', np.log10(result.det))\n",
    "print('E-optimality:', np.log10(result.min_eig))\n",
    "print('Modified E-optimality:', np.log10(result.cond))"
   ]
  },
  {
   "cell_type": "markdown",
   "id": "4e11e059",
   "metadata": {},
   "source": [
    "## Method: Optimization\n",
    "Gradient-based optimization with IPOPT with .optimize_doe()\n",
    "\n",
    "This function solves twice: It solves the square version of the MBDoE problem firstly, and then unfixes the design variables as Degree of Freedoms and solves again. In this way the optimization problem can be well initialized. "
   ]
  },
  {
   "cell_type": "code",
   "execution_count": null,
   "id": "99f238be",
   "metadata": {},
   "outputs": [],
   "source": [
    "exp1 = generate_exp(t_control, 3, [300, 300, 300, 300, 300, 300, 300, 300, 300])\n",
    "#exp1 = generate_exp(t_control, 5, [500, 500, 500, 500, 500, 500, 500, 500, 500])"
   ]
  },
  {
   "cell_type": "code",
   "execution_count": null,
   "id": "a53cd8f4",
   "metadata": {},
   "outputs": [],
   "source": [
    "\n",
    "doe_object = DesignOfExperiments(parameter_dict, dv_pass,\n",
    "                                 measure_class, createmod,\n",
    "                                prior_FIM=prior_pass, discretize_model=disc, args=[True])\n",
    "\n",
    "square_result, optimize_result= doe_object.optimize_doe(exp1, if_optimize=True, if_Cholesky=True, \n",
    "                                                         scale_nominal_param_value=True, objective_option='det', \n",
    "                                                         L_initial=None)\n",
    "\n",
    "#square_result = doe_object.optimize_doe(exp1, if_optimize=False, if_Cholesky=True, \n",
    "#                                                         scale_nominal_param_value=True, objective_option='det', \n",
    "#                                                         L_initial=None)"
   ]
  },
  {
   "cell_type": "code",
   "execution_count": null,
   "id": "61398ed6",
   "metadata": {},
   "outputs": [],
   "source": [
    "print('======Result summary======')\n",
    "print('This optimization is solved with status:', optimize_result.status)\n",
    "print('The result FIM is:', optimize_result.FIM)\n",
    "print('Four design criteria log10() value:')\n",
    "print('A-optimality:', np.log10(optimize_result.trace))\n",
    "print('D-optimality:', np.log10(optimize_result.det))\n",
    "print('E-optimality:', np.log10(optimize_result.min_eig))\n",
    "print('Modified E-optimality:', np.log10(optimize_result.cond))\n",
    "\n",
    "t_list = []\n",
    "for t in optimize_result.model.t:\n",
    "    t_list.append(t)\n",
    "\n",
    "T_list = []\n",
    "for i in t_list:\n",
    "    T_list.append(value(optimize_result.model.T[i]))\n",
    "\n",
    "print(value(optimize_result.model.T[0]))\n",
    "print(value(optimize_result.model.T[1]))\n",
    "print()\n",
    "    \n",
    "si=16\n",
    "plt.pyplot.rc('axes', titlesize=si)\n",
    "plt.pyplot.rc('axes', labelsize=si)\n",
    "plt.pyplot.rc('xtick', labelsize=si)\n",
    "plt.pyplot.rc('ytick', labelsize=si)\n",
    "plt.pyplot.rc('legend', fontsize=12)\n",
    "    \n",
    "plt.pyplot.plot(t_list, T_list, 'b', linewidth=2)\n",
    "#plt.scatter(t_list, T_list, 'b')\n",
    "plt.pyplot.ylabel('T [$K$]')\n",
    "plt.pyplot.xlabel('Time [$h$]')\n",
    "plt.pyplot.show()"
   ]
  },
  {
   "cell_type": "markdown",
   "id": "552c77f2",
   "metadata": {},
   "source": [
    "## Method: Exploratory analysis (Enumeration)\n",
    "\n",
    "This method conducts exploratory analysis by enumeration. \n",
    "It allows to define any number (dimensions) of design variables.\n",
    "Heatmaps can be drawn by two design variables, fixing other design variables; \n",
    "1D curve can be drawn by one design variable, fixing other design variables."
   ]
  },
  {
   "cell_type": "markdown",
   "id": "7bdfa218",
   "metadata": {},
   "source": [
    "### Specify user inputs"
   ]
  },
  {
   "cell_type": "code",
   "execution_count": null,
   "id": "3e4cc7c5",
   "metadata": {},
   "outputs": [],
   "source": [
    "# Design variable ranges as lists \n",
    "design_ranges = [list(np.linspace(1,5,5)), list(np.linspace(300,700,5))]\n",
    "\n",
    "# Design variable names \n",
    "dv_apply_name = ['CA0','T']\n",
    "\n",
    "# Design variable should be fixed at these time points\n",
    "dv_apply_time = [[0],t_control]\n",
    "\n",
    "# Define experiments. This is a starting point of which the value does not matter\n",
    "exp1 = generate_exp(t_control, 5, [300, 300, 300, 300, 300, 300, 300, 300, 300])\n",
    "    \n",
    "## choose from 'sequential_finite', 'direct_kaug'\n",
    "#sensi_opt = 'sequential_finite'\n",
    "sensi_opt = 'direct_kaug'\n",
    "\n",
    "# model option\n",
    "if sensi_opt == 'direct_kaug':\n",
    "    args_ = [False]\n",
    "else:\n",
    "    args_ = [True]"
   ]
  },
  {
   "cell_type": "code",
   "execution_count": null,
   "id": "813c10cd",
   "metadata": {},
   "outputs": [],
   "source": [
    "# add prior information\n",
    "prior_5_300 = pd.read_csv('fim_5_300_scale.csv')\n",
    "#prior_5_300_500 = pd.read_csv('fim_5_300_500_scale.csv')\n",
    "\n",
    "prior_all = prior_5_300\n",
    "\n",
    "prior_pass=np.asarray(prior_all)\n",
    "\n",
    "#L_initials = np.linalg.cholesky(prior_pass)\n",
    "#print(L_initials)\n",
    "\n",
    "print('The prior information FIM:', prior_pass)\n",
    "print('Prior Det:', np.linalg.det(prior_pass))"
   ]
  },
  {
   "cell_type": "code",
   "execution_count": null,
   "id": "2ee978f3",
   "metadata": {},
   "outputs": [],
   "source": [
    "doe_object = DesignOfExperiments(parameter_dict, dv_pass,\n",
    "                                 measure_class, createmod,\n",
    "                                prior_FIM=prior_pass, discretize_model=disc, args=args_)\n",
    "\n",
    "all_fim = doe_object.run_grid_search(exp1, design_ranges, dv_apply_name, dv_apply_time, \n",
    "                                     mode=sensi_opt)"
   ]
  },
  {
   "cell_type": "markdown",
   "id": "99ac2752",
   "metadata": {},
   "source": [
    "### 1D sensitivity curve"
   ]
  },
  {
   "cell_type": "code",
   "execution_count": null,
   "id": "2edd7bc6",
   "metadata": {},
   "outputs": [],
   "source": [
    "test = all_fim.extract_criteria()\n",
    "\n",
    "## draw 1D sensitivity curve \n",
    "\n",
    "fixed = {\"'CA0'\": 5.0}\n",
    "\n",
    "all_fim.figure_drawing(fixed, ['T'], 'Reactor case','T [K]','$C_{A0}$ [M]' )\n",
    "\n"
   ]
  },
  {
   "cell_type": "markdown",
   "id": "33d66a0a",
   "metadata": {},
   "source": [
    "## Heatmap"
   ]
  },
  {
   "cell_type": "code",
   "execution_count": null,
   "id": "e76e73fb",
   "metadata": {},
   "outputs": [],
   "source": [
    "fixed = {}\n",
    "all_fim.figure_drawing(fixed, ['CA0','T'], 'Reactor case','$C_{A0}$ [M]', 'T [K]' )"
   ]
  },
  {
   "cell_type": "markdown",
   "id": "1a54b6e6",
   "metadata": {},
   "source": [
    "## Grid search for 3 design variables"
   ]
  },
  {
   "cell_type": "code",
   "execution_count": null,
   "id": "306eb485",
   "metadata": {},
   "outputs": [],
   "source": [
    "\n",
    "# Define design ranges\n",
    "design_ranges = [list(np.linspace(1,5,2)),  list(np.linspace(300,700,2)), [300,500]]\n",
    "\n",
    "# Define design variable \n",
    "# Here the two T are for different controlling time subsets\n",
    "dv_apply_name = ['CA0', 'T', 'T']\n",
    "dv_apply_time = [[0], [0], [0.125, 0.25, 0.375, 0.5, 0.625, 0.75, 0.875,1]]\n",
    "\n",
    "# Define experiments\n",
    "exp1 = generate_exp(t_control, 5, [300, 300, 300, 300, 300, 300, 300, 300, 300])\n",
    "\n",
    "## choose from 'sequential_finite', 'direct_kaug'\n",
    "#sensi_opt = 'sequential_finite'\n",
    "sensi_opt = 'direct_kaug'\n",
    "\n",
    "# model option\n",
    "if sensi_opt == 'direct_kaug':\n",
    "    args_ = [False]\n",
    "else:\n",
    "    args_ = [True]"
   ]
  },
  {
   "cell_type": "code",
   "execution_count": null,
   "id": "167d2800",
   "metadata": {},
   "outputs": [],
   "source": [
    "doe_object = DesignOfExperiments(parameter_dict, dv_pass,\n",
    "                                 measure_class, createmod,\n",
    "                                prior_FIM=prior_pass, discretize_model=disc, args=args_)\n",
    "\n",
    "all_fim = doe_object.run_grid_search(exp1, design_ranges, dv_apply_name, dv_apply_time, \n",
    "                                     mode=sensi_opt)"
   ]
  },
  {
   "cell_type": "markdown",
   "id": "73704fec",
   "metadata": {},
   "source": [
    "### Draw 1D sensitivity curve"
   ]
  },
  {
   "cell_type": "code",
   "execution_count": null,
   "id": "58a96488",
   "metadata": {
    "scrolled": true
   },
   "outputs": [],
   "source": [
    "test = all_fim.extract_criteria()"
   ]
  },
  {
   "cell_type": "code",
   "execution_count": null,
   "id": "e26fa95d",
   "metadata": {},
   "outputs": [],
   "source": [
    "## draw 1D sensitivity curve \n",
    "\n",
    "fixed = {\"'CA0'\": 1.0, \"'T2'\": 300}\n",
    "\n",
    "all_fim.figure_drawing(fixed, ['T'], 'Reactor case','T [K]','$C_{A0}$ [M]' )"
   ]
  },
  {
   "cell_type": "markdown",
   "id": "e215ba75",
   "metadata": {},
   "source": [
    "### Draw 2D sensitivity curve"
   ]
  },
  {
   "cell_type": "code",
   "execution_count": null,
   "id": "a46ee3d2",
   "metadata": {},
   "outputs": [],
   "source": [
    "fixed = {\"'T2'\": 300}\n",
    "\n",
    "all_fim.figure_drawing(fixed, ['CA0','T'], 'Reactor case','$C_{A0}$ [M]', 'T [K]' )"
   ]
  },
  {
   "cell_type": "code",
   "execution_count": null,
   "id": "65ddaead",
   "metadata": {},
   "outputs": [],
   "source": []
  },
  {
   "cell_type": "code",
   "execution_count": null,
   "id": "002e685f",
   "metadata": {},
   "outputs": [],
   "source": []
  },
  {
   "cell_type": "code",
   "execution_count": null,
   "id": "1c0d53d8",
   "metadata": {},
   "outputs": [],
   "source": []
  }
 ],
 "metadata": {
  "kernelspec": {
   "display_name": "Python 3 (ipykernel)",
   "language": "python",
   "name": "python3"
  },
  "language_info": {
   "codemirror_mode": {
    "name": "ipython",
    "version": 3
   },
   "file_extension": ".py",
   "mimetype": "text/x-python",
   "name": "python",
   "nbconvert_exporter": "python",
   "pygments_lexer": "ipython3",
   "version": "3.7.11"
  }
 },
 "nbformat": 4,
 "nbformat_minor": 5
}
