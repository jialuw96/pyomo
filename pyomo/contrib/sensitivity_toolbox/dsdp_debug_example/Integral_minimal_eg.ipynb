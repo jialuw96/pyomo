{
 "cells": [
  {
   "cell_type": "code",
   "execution_count": 1,
   "id": "a9086b31",
   "metadata": {},
   "outputs": [],
   "source": [
    "from pyomo.environ import * \n",
    "from pyomo.dae import *\n",
    "from pyomo.contrib.sensitivity_toolbox.sens import get_dsdp\n"
   ]
  },
  {
   "cell_type": "code",
   "execution_count": 8,
   "id": "e89b9682",
   "metadata": {},
   "outputs": [],
   "source": [
    "model = ConcreteModel()\n",
    "model.time = ContinuousSet(bounds=(0,10))\n",
    "model.X = Var(model.time)\n",
    "model.a = Var(within=Reals)\n",
    "model.scale = Param(initialize=1, mutable=True)\n",
    "\n",
    "def _intX(m,t):\n",
    "    return m.X[t]\n",
    "model.intX = Integral(model.time, wrt=model.time, rule=_intX)\n",
    "\n",
    "def _con1(m):\n",
    "    return m.a == m.intX + m.scale \n",
    "model.con = Constraint(rule=_con1)\n",
    "\n",
    "def _obj(m):\n",
    "    return m.a\n",
    "#model.obj = Objective(rule=_obj)\n",
    "\n",
    "model.Obj = Objective(expr=0, sense=minimize)"
   ]
  },
  {
   "cell_type": "code",
   "execution_count": 9,
   "id": "91541bd6",
   "metadata": {},
   "outputs": [],
   "source": [
    "discretizer = TransformationFactory('dae.collocation')\n",
    "discretizer.apply_to(model,nfe=20,wrt=model.time,scheme='LAGRANGE-RADAU', ncp=3)\n"
   ]
  },
  {
   "cell_type": "code",
   "execution_count": 10,
   "id": "8dba9a39",
   "metadata": {
    "scrolled": true
   },
   "outputs": [
    {
     "name": "stdout",
     "output_type": "stream",
     "text": [
      "Ipopt 3.13.2: \n",
      "\n",
      "******************************************************************************\n",
      "This program contains Ipopt, a library for large-scale nonlinear optimization.\n",
      " Ipopt is released as open source code under the Eclipse Public License (EPL).\n",
      "         For more information visit http://projects.coin-or.org/Ipopt\n",
      "\n",
      "This version of Ipopt was compiled from source code available at\n",
      "    https://github.com/IDAES/Ipopt as part of the Institute for the Design of\n",
      "    Advanced Energy Systems Process Systems Engineering Framework (IDAES PSE\n",
      "    Framework) Copyright (c) 2018-2019. See https://github.com/IDAES/idaes-pse.\n",
      "\n",
      "This version of Ipopt was compiled using HSL, a collection of Fortran codes\n",
      "    for large-scale scientific computation.  All technical papers, sales and\n",
      "    publicity material resulting from use of the HSL codes within IPOPT must\n",
      "    contain the following acknowledgement:\n",
      "        HSL, a collection of Fortran codes for large-scale scientific\n",
      "        computation. See http://www.hsl.rl.ac.uk.\n",
      "******************************************************************************\n",
      "\n",
      "This is Ipopt version 3.13.2, running with linear solver ma27.\n",
      "\n",
      "Number of nonzeros in equality constraint Jacobian...:       62\n",
      "Number of nonzeros in inequality constraint Jacobian.:        0\n",
      "Number of nonzeros in Lagrangian Hessian.............:        0\n",
      "\n",
      "Total number of variables............................:       62\n",
      "                     variables with only lower bounds:        0\n",
      "                variables with lower and upper bounds:        0\n",
      "                     variables with only upper bounds:        0\n",
      "Total number of equality constraints.................:        1\n",
      "Total number of inequality constraints...............:        0\n",
      "        inequality constraints with only lower bounds:        0\n",
      "   inequality constraints with lower and upper bounds:        0\n",
      "        inequality constraints with only upper bounds:        0\n",
      "\n",
      "iter    objective    inf_pr   inf_du lg(mu)  ||d||  lg(rg) alpha_du alpha_pr  ls\n",
      "   0  0.0000000e+00 1.00e+00 0.00e+00  -1.0 0.00e+00    -  0.00e+00 0.00e+00   0\n",
      "MA27BD returned iflag=-4 and requires more memory.\n",
      " Increase liw from 1565 to 3130 and la from 945 to 4400 and factorize again.\n",
      "   1  0.0000000e+00 6.66e-16 3.66e-05  -1.7 3.66e-01  -4.0 1.00e+00 1.00e+00h  1\n",
      "   2  0.0000000e+00 8.88e-16 6.78e-21  -5.7 2.83e-16  -4.5 1.00e+00 1.00e+00   0\n",
      "\n",
      "Number of Iterations....: 2\n",
      "\n",
      "                                   (scaled)                 (unscaled)\n",
      "Objective...............:   0.0000000000000000e+00    0.0000000000000000e+00\n",
      "Dual infeasibility......:   6.7762635780344027e-21    6.7762635780344027e-21\n",
      "Constraint violation....:   8.8817841970012523e-16    8.8817841970012523e-16\n",
      "Complementarity.........:   0.0000000000000000e+00    0.0000000000000000e+00\n",
      "Overall NLP error.......:   8.8817841970012523e-16    8.8817841970012523e-16\n",
      "\n",
      "\n",
      "Number of objective function evaluations             = 3\n",
      "Number of objective gradient evaluations             = 3\n",
      "Number of equality constraint evaluations            = 3\n",
      "Number of inequality constraint evaluations          = 0\n",
      "Number of equality constraint Jacobian evaluations   = 3\n",
      "Number of inequality constraint Jacobian evaluations = 0\n",
      "Number of Lagrangian Hessian evaluations             = 2\n",
      "Total CPU secs in IPOPT (w/o function evaluations)   =      0.001\n",
      "Total CPU secs in NLP function evaluations           =      0.000\n",
      "\n",
      "EXIT: Optimal Solution Found.\n",
      "\b\b\b\b\b\b\b\b\b\b\b\b\b\b"
     ]
    },
    {
     "data": {
      "text/plain": [
       "{'Problem': [{'Lower bound': -inf, 'Upper bound': inf, 'Number of objectives': 1, 'Number of constraints': 1, 'Number of variables': 62, 'Sense': 'unknown'}], 'Solver': [{'Status': 'ok', 'Message': 'Ipopt 3.13.2\\\\x3a Optimal Solution Found', 'Termination condition': 'optimal', 'Id': 0, 'Error rc': 0, 'Time': 0.052832603454589844}], 'Solution': [OrderedDict([('number of solutions', 0), ('number of solutions displayed', 0)])]}"
      ]
     },
     "execution_count": 10,
     "metadata": {},
     "output_type": "execute_result"
    }
   ],
   "source": [
    "solver = SolverFactory(\"ipopt\")\n",
    "solver.solve(model, tee=True)"
   ]
  },
  {
   "cell_type": "code",
   "execution_count": 11,
   "id": "5e7507ad",
   "metadata": {},
   "outputs": [
    {
     "name": "stdout",
     "output_type": "stream",
     "text": [
      "-0.6337995648274556\n"
     ]
    }
   ],
   "source": [
    "print(value(model.intX))"
   ]
  },
  {
   "cell_type": "code",
   "execution_count": 12,
   "id": "6a5ff460",
   "metadata": {
    "scrolled": true
   },
   "outputs": [
    {
     "name": "stdout",
     "output_type": "stream",
     "text": [
      "W[K_AUG]...\t[K_AUG_ASL]No n_rhs declared.\n",
      "W[K_AUG]...\t[K_AUG_ASL]Target log10mu:= -11.\n",
      "W[K_AUG_ASL]...\t[K_AUG_ASL]No ipopt_zL_in suffix declared, setting zL = 0.\n",
      "W[K_AUG_ASL]...\t[K_AUG_ASL]No ipopt_zU_in suffix declared, setting zU = 0.\n",
      "W[K_AUG]...\t[K_AUG_ASL]No f_timestamp suffix declared, Fallback to default writing mode.\n",
      "I[K_AUG]...\t[K_AUG_ASL] Filename for dot_sens dsdp_in_.in\n",
      "W[K_AUG]...\t[K_AUG_ASL]dsdp for linear C(x) + I*p = 0 override.\n",
      "W[K_AUG]...\t[INERTIA_STRATEGY]Wrong inertia(neig < m).\n",
      "W[K_AUG]...\t[INERTIA_STRATEGY]Attempting to make i_pert->d_c > 0.\n",
      "W[K_AUG]...\t[MA57_DRIVER]\n",
      "\n",
      "\t\tCould not fix the accuracy of the problem.\n",
      "\t\tTry re-writing the problem or give a different point or change \"max_refinement_steps\"\n",
      "\t\tWarning: results might be incorrect.\n",
      "\t\tCurrent residual ratio 0.414214; Max residual ratio 1e-10.\n",
      "\n",
      "[K_AUG] 0.1.0, Part of the IDAES PSE framework\n",
      "Please visit https://idaes.org/\n",
      ": dsdp_mode=\n",
      "dsdp_mode=\n",
      "I[K_AUG]...\t[K_AUG_ASL]File read successfully.\n",
      "I[K_AUG]...\t[K_AUG_ASL]Number of Right hand sides: 0\n",
      "I[K_AUG]...\t[K_AUG_ASL]Number of variables       : 63\n",
      "I[K_AUG]...\t[K_AUG_ASL]Number of constraints     : 2\n",
      "I[K_AUG]...\t[K_AUG_ASL]Number of valid n_dof     : 61\n",
      "I[K_AUG]...\t[ADJUST_MU]\tWarning no relevant info from the problem can predict logmu\n",
      "I[K_AUG]...\t[FIND_INEQUALITIES]summary: eq: 2, leq: 0, geq: 0 \n",
      "I[K_AUG]...\t[K_AUG_ASL]Nonzeroes in the sparse Jacobian 64\n",
      "I[K_AUG]...\t[GET_HESS_ASL]Objective found\n",
      "I[K_AUG]...\t[GET_HESS_ASL]Nonzeroes in the sparse hessian 0\n",
      "I[K_AUG]...\t[GET_HESS_ASL]Minimization problem detected\n",
      "I[K_AUG]...\t[GET_HESS_ASL]Current objective 0.000000\n",
      "W[K_AUG]...\t[GET_HESS_ASL]No non-zeroes in the hessian. Appending 0s at main-diag\n",
      "I[K_AUG]...\t[GET_HESS_ASL]Missing nz in the Hessian of the Lag: 63\n",
      "I[K_AUG]...\t[K_AUG_ASL]Barrier term added.\n",
      "I[K_AUG]...\t[K_AUG_ASL]MC19 scaling...\n",
      "I[K_AUG]...\t[ASSM_RHS_DCDP]According to the suffixes declared len p is 1 \n",
      "I[MA57]...\t[]***\n",
      "I[MA57]...\t[ma57bd_]ma57ad_: Status Ok.\n",
      "I[MA57]...\t[MA57_FACTOR]\n",
      "I[K_AUG]...\t[MA57_FACTOR]n_neig = 0\n",
      "I[K_AUG]...\t[MA57_FACTOR]n_neig = 2\n",
      "I[K_AUG]...\t[INERTIA_STRATEGY]Inertia check successful.\n",
      "I[MA57]...\t[Factorize Success.]***\n",
      "I[MA57]...\t[MA57_RATIO]\n",
      "I[K_AUG]...\t[MA57_SOLVE]: Ratio of norm of scaled residuals (reported); 4.142136e-01 \n",
      "I[K_AUG]...\t[MA57_SOLVE]: The norm of residuals is larger than max ratio(computed)\n",
      "I[K_AUG]...\t[MA57_SOLVE]: Attempting to reduce residuals\n",
      "\n",
      "I[K_AUG]...\t[MA57_SOLVE]Asking for better accuracy.\n",
      "I[MA57]...\t[MA57_FACTOR]\n",
      "I[K_AUG]...\t[MA57_FACTOR]n_neig = 2\n",
      "I[K_AUG]...\t[INERTIA_STRATEGY]Inertia check successful.\n",
      "I[MA57]...\t[MA57_RATIO]\n",
      "I[K_AUG]...\t[MA57_SOLVE]Accuracy improvement tries 0, Trial pivtol 0.001, Residual ratio 0.4142135623730951.\n",
      "I[K_AUG]...\t[MA57_SOLVE]Accuracy is not improving.\n",
      "\n",
      "W[K_AUG]...\t[MA57_DRIVER]Inertia check OK neig=2, (neig == m).\n",
      "I[K_AUG]...\t[K_AUG_ASL]Linear solver done. \n",
      "I[K_AUG]...\t[K_AUG_ASL]Timings..Ev&Assem 0.000271, Fact 0.001483, Overall 0.001656.\n"
     ]
    }
   ],
   "source": [
    "### run get_dsdp\n",
    "param = {\"scale\": 1}\n",
    "param_list = [\"scale\"]\n",
    "\n",
    "dsdp, col = get_dsdp(model, param_list, param, tee=True)"
   ]
  },
  {
   "cell_type": "code",
   "execution_count": null,
   "id": "5eddac01",
   "metadata": {},
   "outputs": [],
   "source": []
  }
 ],
 "metadata": {
  "kernelspec": {
   "display_name": "Python 3 (ipykernel)",
   "language": "python",
   "name": "python3"
  },
  "language_info": {
   "codemirror_mode": {
    "name": "ipython",
    "version": 3
   },
   "file_extension": ".py",
   "mimetype": "text/x-python",
   "name": "python",
   "nbconvert_exporter": "python",
   "pygments_lexer": "ipython3",
   "version": "3.8.17"
  }
 },
 "nbformat": 4,
 "nbformat_minor": 5
}
